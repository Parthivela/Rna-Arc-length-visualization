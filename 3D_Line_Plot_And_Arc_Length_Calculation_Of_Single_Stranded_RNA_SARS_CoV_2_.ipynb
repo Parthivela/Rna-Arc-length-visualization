{
  "nbformat": 4,
  "nbformat_minor": 0,
  "metadata": {
    "colab": {
      "provenance": []
    },
    "kernelspec": {
      "name": "python3",
      "display_name": "Python 3"
    },
    "language_info": {
      "name": "python"
    }
  },
  "cells": [
    {
      "cell_type": "code",
      "execution_count": null,
      "metadata": {
        "colab": {
          "base_uri": "https://localhost:8080/",
          "height": 559
        },
        "id": "CdjC4DqbreFl",
        "outputId": "17e50404-7c15-4426-e9b4-26ac705c9356"
      },
      "outputs": [
        {
          "output_type": "stream",
          "name": "stdout",
          "text": [
            "The length of the arc is: 9.00 units\n"
          ]
        },
        {
          "output_type": "display_data",
          "data": {
            "text/html": [
              "<html>\n",
              "<head><meta charset=\"utf-8\" /></head>\n",
              "<body>\n",
              "    <div>            <script src=\"https://cdnjs.cloudflare.com/ajax/libs/mathjax/2.7.5/MathJax.js?config=TeX-AMS-MML_SVG\"></script><script type=\"text/javascript\">if (window.MathJax && window.MathJax.Hub && window.MathJax.Hub.Config) {window.MathJax.Hub.Config({SVG: {font: \"STIX-Web\"}});}</script>                <script type=\"text/javascript\">window.PlotlyConfig = {MathJaxConfig: 'local'};</script>\n",
              "        <script charset=\"utf-8\" src=\"https://cdn.plot.ly/plotly-2.35.2.min.js\"></script>                <div id=\"326c71ef-f4da-4e19-9ddd-4048e1e7e1e8\" class=\"plotly-graph-div\" style=\"height:525px; width:100%;\"></div>            <script type=\"text/javascript\">                                    window.PLOTLYENV=window.PLOTLYENV || {};                                    if (document.getElementById(\"326c71ef-f4da-4e19-9ddd-4048e1e7e1e8\")) {                    Plotly.newPlot(                        \"326c71ef-f4da-4e19-9ddd-4048e1e7e1e8\",                        [{\"line\":{\"color\":\"black\",\"width\":1},\"marker\":{\"color\":\"green\",\"size\":2},\"mode\":\"lines+markers\",\"x\":[0.0,0.08569679594766465,0.1713149048077371,0.2567757117433725,0.3420007463528848,0.4269117547215354,0.511430771274542,0.5954801903653296,0.6789828375333021,0.7618620403656878,0.8440416988984134,0.9254463554913425,1.0060012641137397,1.085632458976327,1.1642668224469228,1.2418321521872957,1.318257227449599,1.3934718744714998,1.4674070309099656,1.5399948092545417,1.6111685591618894,1.6808629286543613,1.7490139241264042,1.815558969103705,1.8804369617011223,1.9435883307266415,2.004955090379846,2.0644808934946757,2.122111083277582,2.1777927434935846,2.231474747054135,2.283107802962182,2.332644501571331,2.3800393581175436,2.425248854483401,2.4682314791565845,2.5089477653458885,2.5473603272197614,2.5834338942341004,2.6171353435177878,2.6484337302862193,2.6773003162549127,2.7037085960270963,2.7276343214310548,2.749055523784881,2.767952534068195,2.784308000982306,2.79810690688223,2.8093365815659466,2.8179867139082178,2.8240493613282993,2.827518957082846,2.8283923153773123,2.8266686342911616,2.8223494965141915,2.8154388678933016,2.805943093791042,2.793870893259278,2.779233351033328,2.7620439073539207,2.7423183456263227,2.7200747779279624,2.695333628377856,2.6681176143831182,2.6384517257797557,2.6063632018869205,2.571881506495672,2.5350383008152266,2.4958674144015265,2.454404814094828,2.4106885709948274,2.3647588255036496,2.3166577504687917,2.266429512459876,2.2141202312147557,2.1597779372922132,2.1034525279701413,2.045195721429693,1.985061009267473,1.9231036073793737,1.8593804052611513,1.7939499137723007,1.7268722114111847,1.6582088891507551,1.5880229938855126,1.5163789705416355,1.4433426029034306,1.3689809532104404,1.2933623005806667,1.2165560783164582,1.1386328101506116,1.059664045491246,0.9797222937248928,0.8988809576381328,0.81721426601891,0.7347972054994059,0.6517054517030625,0.5680152997589677,0.483803594247411,0.39914765864092966],\"y\":[2.8284271247461903,2.827128589074842,2.8232341743806373,2.816747456528307,2.8076743916441007,2.7960233106468513,2.781804911598498,2.765032249881088,2.745720726209282,2.7238880724893657,2.6995543355377536,2.6727418586739335,2.643475261204757,2.611781415818907,2.5776894239123043,2.5412305888671085,2.5024383873088456,2.4613484383680597,2.4179984709747027,2.372428289215307,2.324679735784738,2.2747966535660904,2.2228248453740025,2.1688120318983595,2.1128078078869956,2.0548635966076256,1.99503260263083,1.933369762977436,1.8699316966751616,1.8047766527708313,1.7379644568459056,1.6695564560844298,1.5996154629438408,1.5282056974803593,1.455392728381914,1.381243412762754,1.305825834775018,1.2292092430936363,1.1514639873319659,1.0726614534465342,0.9928739981902144,0.9121748826740106,0.8306382050984578,0.748338832716404,0.6653523330896449,0.5817549047025355,0.4976233069962814,0.413034789888162,0.3280670228403958,0.24279802354377708,0.15730608628156886,0.07166971003942747,-0.014032473572631408,-0.09972177252004329,-0.18531950659898436,-0.2707470796808044,-0.355926051879255,-0.440778211574259,-0.5252256472260838,-0.609190818913981,-0.6925966295336038,-0.7753664955878268,-0.8574244175059746,-0.9386950494268832,-1.0191037683817232,-1.0985767428130637,-1.177041000367257,-1.254424494897899,-1.3306561726188477,-1.4056660373460457,-1.4793852147682554,-1.5517460156876839,-1.6226819981724323,-1.6921280285637046,-1.7600203412817472,-1.826296597375627,-1.8908959417630633,-1.95375905910777,-2.0148282282829975,-2.074047375371267,-2.131362125151631,-2.1867198510271852,-2.2400697233469864,-2.291362756078011,-2.3405518517842956,-2.3875918448719604,-2.432439543060413,-2.4750537670416444,-2.5153953882912097,-2.5534273649961694,-2.5891147760670097,-2.622424853202304,-2.6533270109766787,-2.6817928749244513,-2.7077963075931644,-2.7313134325430806,-2.7523226562706102,-2.770804688035541,-2.786742557573858,-2.8001216306799006],\"z\":[0.0,0.030303030303030304,0.06060606060606061,0.09090909090909091,0.12121212121212122,0.15151515151515152,0.18181818181818182,0.21212121212121213,0.24242424242424243,0.2727272727272727,0.30303030303030304,0.33333333333333337,0.36363636363636365,0.3939393939393939,0.42424242424242425,0.4545454545454546,0.48484848484848486,0.5151515151515151,0.5454545454545454,0.5757575757575758,0.6060606060606061,0.6363636363636364,0.6666666666666667,0.696969696969697,0.7272727272727273,0.7575757575757576,0.7878787878787878,0.8181818181818182,0.8484848484848485,0.8787878787878788,0.9090909090909092,0.9393939393939394,0.9696969696969697,1.0,1.0303030303030303,1.0606060606060606,1.0909090909090908,1.1212121212121213,1.1515151515151516,1.1818181818181819,1.2121212121212122,1.2424242424242424,1.2727272727272727,1.303030303030303,1.3333333333333335,1.3636363636363638,1.393939393939394,1.4242424242424243,1.4545454545454546,1.4848484848484849,1.5151515151515151,1.5454545454545454,1.5757575757575757,1.6060606060606062,1.6363636363636365,1.6666666666666667,1.696969696969697,1.7272727272727273,1.7575757575757576,1.7878787878787878,1.8181818181818183,1.8484848484848486,1.878787878787879,1.9090909090909092,1.9393939393939394,1.9696969696969697,2.0,2.0303030303030303,2.0606060606060606,2.090909090909091,2.121212121212121,2.1515151515151514,2.1818181818181817,2.2121212121212124,2.2424242424242427,2.272727272727273,2.303030303030303,2.3333333333333335,2.3636363636363638,2.393939393939394,2.4242424242424243,2.4545454545454546,2.484848484848485,2.515151515151515,2.5454545454545454,2.5757575757575757,2.606060606060606,2.6363636363636362,2.666666666666667,2.6969696969696972,2.7272727272727275,2.757575757575758,2.787878787878788,2.8181818181818183,2.8484848484848486,2.878787878787879,2.909090909090909,2.9393939393939394,2.9696969696969697,3.0],\"type\":\"scatter3d\"}],                        {\"scene\":{\"xaxis\":{\"title\":{\"text\":\"X\"}},\"yaxis\":{\"title\":{\"text\":\"Y\"}},\"zaxis\":{\"title\":{\"text\":\"Z\"}}},\"title\":{\"text\":\"3D Line Plot\"},\"template\":{\"data\":{\"histogram2dcontour\":[{\"type\":\"histogram2dcontour\",\"colorbar\":{\"outlinewidth\":0,\"ticks\":\"\"},\"colorscale\":[[0.0,\"#0d0887\"],[0.1111111111111111,\"#46039f\"],[0.2222222222222222,\"#7201a8\"],[0.3333333333333333,\"#9c179e\"],[0.4444444444444444,\"#bd3786\"],[0.5555555555555556,\"#d8576b\"],[0.6666666666666666,\"#ed7953\"],[0.7777777777777778,\"#fb9f3a\"],[0.8888888888888888,\"#fdca26\"],[1.0,\"#f0f921\"]]}],\"choropleth\":[{\"type\":\"choropleth\",\"colorbar\":{\"outlinewidth\":0,\"ticks\":\"\"}}],\"histogram2d\":[{\"type\":\"histogram2d\",\"colorbar\":{\"outlinewidth\":0,\"ticks\":\"\"},\"colorscale\":[[0.0,\"#0d0887\"],[0.1111111111111111,\"#46039f\"],[0.2222222222222222,\"#7201a8\"],[0.3333333333333333,\"#9c179e\"],[0.4444444444444444,\"#bd3786\"],[0.5555555555555556,\"#d8576b\"],[0.6666666666666666,\"#ed7953\"],[0.7777777777777778,\"#fb9f3a\"],[0.8888888888888888,\"#fdca26\"],[1.0,\"#f0f921\"]]}],\"heatmap\":[{\"type\":\"heatmap\",\"colorbar\":{\"outlinewidth\":0,\"ticks\":\"\"},\"colorscale\":[[0.0,\"#0d0887\"],[0.1111111111111111,\"#46039f\"],[0.2222222222222222,\"#7201a8\"],[0.3333333333333333,\"#9c179e\"],[0.4444444444444444,\"#bd3786\"],[0.5555555555555556,\"#d8576b\"],[0.6666666666666666,\"#ed7953\"],[0.7777777777777778,\"#fb9f3a\"],[0.8888888888888888,\"#fdca26\"],[1.0,\"#f0f921\"]]}],\"heatmapgl\":[{\"type\":\"heatmapgl\",\"colorbar\":{\"outlinewidth\":0,\"ticks\":\"\"},\"colorscale\":[[0.0,\"#0d0887\"],[0.1111111111111111,\"#46039f\"],[0.2222222222222222,\"#7201a8\"],[0.3333333333333333,\"#9c179e\"],[0.4444444444444444,\"#bd3786\"],[0.5555555555555556,\"#d8576b\"],[0.6666666666666666,\"#ed7953\"],[0.7777777777777778,\"#fb9f3a\"],[0.8888888888888888,\"#fdca26\"],[1.0,\"#f0f921\"]]}],\"contourcarpet\":[{\"type\":\"contourcarpet\",\"colorbar\":{\"outlinewidth\":0,\"ticks\":\"\"}}],\"contour\":[{\"type\":\"contour\",\"colorbar\":{\"outlinewidth\":0,\"ticks\":\"\"},\"colorscale\":[[0.0,\"#0d0887\"],[0.1111111111111111,\"#46039f\"],[0.2222222222222222,\"#7201a8\"],[0.3333333333333333,\"#9c179e\"],[0.4444444444444444,\"#bd3786\"],[0.5555555555555556,\"#d8576b\"],[0.6666666666666666,\"#ed7953\"],[0.7777777777777778,\"#fb9f3a\"],[0.8888888888888888,\"#fdca26\"],[1.0,\"#f0f921\"]]}],\"surface\":[{\"type\":\"surface\",\"colorbar\":{\"outlinewidth\":0,\"ticks\":\"\"},\"colorscale\":[[0.0,\"#0d0887\"],[0.1111111111111111,\"#46039f\"],[0.2222222222222222,\"#7201a8\"],[0.3333333333333333,\"#9c179e\"],[0.4444444444444444,\"#bd3786\"],[0.5555555555555556,\"#d8576b\"],[0.6666666666666666,\"#ed7953\"],[0.7777777777777778,\"#fb9f3a\"],[0.8888888888888888,\"#fdca26\"],[1.0,\"#f0f921\"]]}],\"mesh3d\":[{\"type\":\"mesh3d\",\"colorbar\":{\"outlinewidth\":0,\"ticks\":\"\"}}],\"scatter\":[{\"fillpattern\":{\"fillmode\":\"overlay\",\"size\":10,\"solidity\":0.2},\"type\":\"scatter\"}],\"parcoords\":[{\"type\":\"parcoords\",\"line\":{\"colorbar\":{\"outlinewidth\":0,\"ticks\":\"\"}}}],\"scatterpolargl\":[{\"type\":\"scatterpolargl\",\"marker\":{\"colorbar\":{\"outlinewidth\":0,\"ticks\":\"\"}}}],\"bar\":[{\"error_x\":{\"color\":\"#2a3f5f\"},\"error_y\":{\"color\":\"#2a3f5f\"},\"marker\":{\"line\":{\"color\":\"#E5ECF6\",\"width\":0.5},\"pattern\":{\"fillmode\":\"overlay\",\"size\":10,\"solidity\":0.2}},\"type\":\"bar\"}],\"scattergeo\":[{\"type\":\"scattergeo\",\"marker\":{\"colorbar\":{\"outlinewidth\":0,\"ticks\":\"\"}}}],\"scatterpolar\":[{\"type\":\"scatterpolar\",\"marker\":{\"colorbar\":{\"outlinewidth\":0,\"ticks\":\"\"}}}],\"histogram\":[{\"marker\":{\"pattern\":{\"fillmode\":\"overlay\",\"size\":10,\"solidity\":0.2}},\"type\":\"histogram\"}],\"scattergl\":[{\"type\":\"scattergl\",\"marker\":{\"colorbar\":{\"outlinewidth\":0,\"ticks\":\"\"}}}],\"scatter3d\":[{\"type\":\"scatter3d\",\"line\":{\"colorbar\":{\"outlinewidth\":0,\"ticks\":\"\"}},\"marker\":{\"colorbar\":{\"outlinewidth\":0,\"ticks\":\"\"}}}],\"scattermapbox\":[{\"type\":\"scattermapbox\",\"marker\":{\"colorbar\":{\"outlinewidth\":0,\"ticks\":\"\"}}}],\"scatterternary\":[{\"type\":\"scatterternary\",\"marker\":{\"colorbar\":{\"outlinewidth\":0,\"ticks\":\"\"}}}],\"scattercarpet\":[{\"type\":\"scattercarpet\",\"marker\":{\"colorbar\":{\"outlinewidth\":0,\"ticks\":\"\"}}}],\"carpet\":[{\"aaxis\":{\"endlinecolor\":\"#2a3f5f\",\"gridcolor\":\"white\",\"linecolor\":\"white\",\"minorgridcolor\":\"white\",\"startlinecolor\":\"#2a3f5f\"},\"baxis\":{\"endlinecolor\":\"#2a3f5f\",\"gridcolor\":\"white\",\"linecolor\":\"white\",\"minorgridcolor\":\"white\",\"startlinecolor\":\"#2a3f5f\"},\"type\":\"carpet\"}],\"table\":[{\"cells\":{\"fill\":{\"color\":\"#EBF0F8\"},\"line\":{\"color\":\"white\"}},\"header\":{\"fill\":{\"color\":\"#C8D4E3\"},\"line\":{\"color\":\"white\"}},\"type\":\"table\"}],\"barpolar\":[{\"marker\":{\"line\":{\"color\":\"#E5ECF6\",\"width\":0.5},\"pattern\":{\"fillmode\":\"overlay\",\"size\":10,\"solidity\":0.2}},\"type\":\"barpolar\"}],\"pie\":[{\"automargin\":true,\"type\":\"pie\"}]},\"layout\":{\"autotypenumbers\":\"strict\",\"colorway\":[\"#636efa\",\"#EF553B\",\"#00cc96\",\"#ab63fa\",\"#FFA15A\",\"#19d3f3\",\"#FF6692\",\"#B6E880\",\"#FF97FF\",\"#FECB52\"],\"font\":{\"color\":\"#2a3f5f\"},\"hovermode\":\"closest\",\"hoverlabel\":{\"align\":\"left\"},\"paper_bgcolor\":\"white\",\"plot_bgcolor\":\"#E5ECF6\",\"polar\":{\"bgcolor\":\"#E5ECF6\",\"angularaxis\":{\"gridcolor\":\"white\",\"linecolor\":\"white\",\"ticks\":\"\"},\"radialaxis\":{\"gridcolor\":\"white\",\"linecolor\":\"white\",\"ticks\":\"\"}},\"ternary\":{\"bgcolor\":\"#E5ECF6\",\"aaxis\":{\"gridcolor\":\"white\",\"linecolor\":\"white\",\"ticks\":\"\"},\"baxis\":{\"gridcolor\":\"white\",\"linecolor\":\"white\",\"ticks\":\"\"},\"caxis\":{\"gridcolor\":\"white\",\"linecolor\":\"white\",\"ticks\":\"\"}},\"coloraxis\":{\"colorbar\":{\"outlinewidth\":0,\"ticks\":\"\"}},\"colorscale\":{\"sequential\":[[0.0,\"#0d0887\"],[0.1111111111111111,\"#46039f\"],[0.2222222222222222,\"#7201a8\"],[0.3333333333333333,\"#9c179e\"],[0.4444444444444444,\"#bd3786\"],[0.5555555555555556,\"#d8576b\"],[0.6666666666666666,\"#ed7953\"],[0.7777777777777778,\"#fb9f3a\"],[0.8888888888888888,\"#fdca26\"],[1.0,\"#f0f921\"]],\"sequentialminus\":[[0.0,\"#0d0887\"],[0.1111111111111111,\"#46039f\"],[0.2222222222222222,\"#7201a8\"],[0.3333333333333333,\"#9c179e\"],[0.4444444444444444,\"#bd3786\"],[0.5555555555555556,\"#d8576b\"],[0.6666666666666666,\"#ed7953\"],[0.7777777777777778,\"#fb9f3a\"],[0.8888888888888888,\"#fdca26\"],[1.0,\"#f0f921\"]],\"diverging\":[[0,\"#8e0152\"],[0.1,\"#c51b7d\"],[0.2,\"#de77ae\"],[0.3,\"#f1b6da\"],[0.4,\"#fde0ef\"],[0.5,\"#f7f7f7\"],[0.6,\"#e6f5d0\"],[0.7,\"#b8e186\"],[0.8,\"#7fbc41\"],[0.9,\"#4d9221\"],[1,\"#276419\"]]},\"xaxis\":{\"gridcolor\":\"white\",\"linecolor\":\"white\",\"ticks\":\"\",\"title\":{\"standoff\":15},\"zerolinecolor\":\"white\",\"automargin\":true,\"zerolinewidth\":2},\"yaxis\":{\"gridcolor\":\"white\",\"linecolor\":\"white\",\"ticks\":\"\",\"title\":{\"standoff\":15},\"zerolinecolor\":\"white\",\"automargin\":true,\"zerolinewidth\":2},\"scene\":{\"xaxis\":{\"backgroundcolor\":\"#E5ECF6\",\"gridcolor\":\"white\",\"linecolor\":\"white\",\"showbackground\":true,\"ticks\":\"\",\"zerolinecolor\":\"white\",\"gridwidth\":2},\"yaxis\":{\"backgroundcolor\":\"#E5ECF6\",\"gridcolor\":\"white\",\"linecolor\":\"white\",\"showbackground\":true,\"ticks\":\"\",\"zerolinecolor\":\"white\",\"gridwidth\":2},\"zaxis\":{\"backgroundcolor\":\"#E5ECF6\",\"gridcolor\":\"white\",\"linecolor\":\"white\",\"showbackground\":true,\"ticks\":\"\",\"zerolinecolor\":\"white\",\"gridwidth\":2}},\"shapedefaults\":{\"line\":{\"color\":\"#2a3f5f\"}},\"annotationdefaults\":{\"arrowcolor\":\"#2a3f5f\",\"arrowhead\":0,\"arrowwidth\":1},\"geo\":{\"bgcolor\":\"white\",\"landcolor\":\"#E5ECF6\",\"subunitcolor\":\"white\",\"showland\":true,\"showlakes\":true,\"lakecolor\":\"white\"},\"title\":{\"x\":0.05},\"mapbox\":{\"style\":\"light\"}}}},                        {\"responsive\": true}                    ).then(function(){\n",
              "                            \n",
              "var gd = document.getElementById('326c71ef-f4da-4e19-9ddd-4048e1e7e1e8');\n",
              "var x = new MutationObserver(function (mutations, observer) {{\n",
              "        var display = window.getComputedStyle(gd).display;\n",
              "        if (!display || display === 'none') {{\n",
              "            console.log([gd, 'removed!']);\n",
              "            Plotly.purge(gd);\n",
              "            observer.disconnect();\n",
              "        }}\n",
              "}});\n",
              "\n",
              "// Listen for the removal of the full notebook cells\n",
              "var notebookContainer = gd.closest('#notebook-container');\n",
              "if (notebookContainer) {{\n",
              "    x.observe(notebookContainer, {childList: true});\n",
              "}}\n",
              "\n",
              "// Listen for the clearing of the current output cell\n",
              "var outputEl = gd.closest('.output');\n",
              "if (outputEl) {{\n",
              "    x.observe(outputEl, {childList: true});\n",
              "}}\n",
              "\n",
              "                        })                };                            </script>        </div>\n",
              "</body>\n",
              "</html>"
            ]
          },
          "metadata": {}
        }
      ],
      "source": [
        "#import the required libraries\n",
        "import numpy as np\n",
        "import seaborn as sns\n",
        "import matplotlib.pyplot as plt\n",
        "import plotly.graph_objects as go\n",
        "# define the equations\n",
        "def x(t):\n",
        "  return 2*np.sqrt(1-np.cos(2*t))\n",
        "def y(t):\n",
        "  return np.sqrt(8)* np.cos(t)\n",
        "def z(t):\n",
        "  return t\n",
        "\n",
        "#As parameters ranges from o to 3 interval\n",
        "t_start=0\n",
        "t_end=3\n",
        "t_points=100\n",
        "\n",
        "#generate the values for the parameter\n",
        "parameter_values=np.linspace(t_start,t_end,t_points)\n",
        "\n",
        "#give the coordinates\n",
        "x_values=x(parameter_values)\n",
        "y_values=y(parameter_values)\n",
        "z_values=z(parameter_values)\n",
        "\n",
        "#calculate the length of the arc by adding all the distances\n",
        "#initially define the arc length is 0\n",
        "arc_length=0\n",
        "for i in range(1,len(parameter_values)):\n",
        "  dx=x_values[i]-x_values[i-1]\n",
        "  dy=y_values[i]-y_values[i-1]\n",
        "  dz=z_values[i]-z_values[i-1]\n",
        "  length_of_segment=np.sqrt(dx**2+dy**2+dz**2)\n",
        "  arc_length=arc_length+length_of_segment\n",
        "#print the length of the arc\n",
        "print(f\"The length of the arc is:{arc_length: .2f} units\")\n",
        "\n",
        "#plot the 3D line plot\n",
        "line_plot=go.Scatter3d(x=x_values,y=y_values,z=z_values,mode='lines+markers',line=dict(width=1,color='black'),marker=dict(size=2,color='green'))\n",
        "layout=go.Layout(title='3D Line Plot',scene=dict(xaxis_title='X',yaxis_title='Y',zaxis_title='Z'))\n",
        "#here i have used plotly module for better interaction and plotted the plot\n",
        "#show the plot\n",
        "line_plot=go.Figure(data=[line_plot],layout=layout)\n",
        "line_plot.show()\n"
      ]
    }
  ]
}